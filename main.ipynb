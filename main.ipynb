{
 "cells": [
  {
   "cell_type": "code",
   "execution_count": 5,
   "id": "1fd43c38",
   "metadata": {},
   "outputs": [],
   "source": [
    "from langchain.document_loaders.csv_loader import CSVLoader\n",
    "\n",
    "loader = CSVLoader(\"faq.csv\")\n",
    "docs = loader.load()"
   ]
  },
  {
   "cell_type": "code",
   "execution_count": 6,
   "id": "f8e714e7",
   "metadata": {},
   "outputs": [
    {
     "data": {
      "text/plain": [
       "Document(metadata={'source': 'faq.csv', 'row': 0}, page_content=\"Question: How can I reset my password?\\nAnswer: Go to the login page and click on 'Forgot Password'. Enter your registered email address and follow the instructions sent to your inbox.\")"
      ]
     },
     "execution_count": 6,
     "metadata": {},
     "output_type": "execute_result"
    }
   ],
   "source": [
    "docs[0]"
   ]
  },
  {
   "cell_type": "code",
   "execution_count": 7,
   "id": "26616764",
   "metadata": {},
   "outputs": [
    {
     "name": "stdout",
     "output_type": "stream",
     "text": [
      "Cricket batsmen fiercely strike, soaring sixes fly.\n",
      "Bowlers spin, swing, wickets tumble, crowds wildly cry.\n"
     ]
    }
   ],
   "source": [
    "from langchain_google_genai import ChatGoogleGenerativeAI\n",
    "import os \n",
    "from dotenv import load_dotenv\n",
    "\n",
    "load_dotenv()\n",
    "\n",
    "api_key = os.environ.get(\"GOOGLE_API_KEY\")\n",
    "\n",
    "llm = ChatGoogleGenerativeAI(api_key=api_key,model=\"gemini-1.5-flash-latest\",temperature=0.3)\n",
    "\n",
    "response = llm.invoke(\"write a two line of 8 word combined on cricket\")\n",
    "\n",
    "print(response.content)"
   ]
  },
  {
   "cell_type": "code",
   "execution_count": 8,
   "id": "9ef18c13",
   "metadata": {},
   "outputs": [],
   "source": [
    "from langchain_huggingface import HuggingFaceEmbeddings\n",
    "\n",
    "embeddings = HuggingFaceEmbeddings()"
   ]
  },
  {
   "cell_type": "code",
   "execution_count": 9,
   "id": "c7bd7f63",
   "metadata": {},
   "outputs": [],
   "source": [
    "from langchain.vectorstores import FAISS\n",
    "\n",
    "vectordb = FAISS.from_documents(docs,embeddings)\n",
    "\n",
    "vectordb.save_local('faiss_index')"
   ]
  },
  {
   "cell_type": "code",
   "execution_count": 10,
   "id": "1d7d4863",
   "metadata": {},
   "outputs": [
    {
     "name": "stdout",
     "output_type": "stream",
     "text": [
      "Question: How can I reset my password?\n",
      "Answer: Go to the login page and click on 'Forgot Password'. Enter your registered email address and follow the instructions sent to your inbox.\n",
      "Question: How do I create an account?\n",
      "Answer: Click on 'Sign Up' at the top-right corner of the website and fill in your details to create an account.\n"
     ]
    }
   ],
   "source": [
    "loaded_db = FAISS.load_local(\"faiss_index\",embeddings,allow_dangerous_deserialization=True)\n",
    "\n",
    "query = \"actually i forget my password, how i reset it\"\n",
    "\n",
    "results = loaded_db.similarity_search(query,k=2)\n",
    "\n",
    "for r in results:\n",
    "    print(r.page_content)"
   ]
  },
  {
   "cell_type": "code",
   "execution_count": 13,
   "id": "57b587ce",
   "metadata": {},
   "outputs": [
    {
     "name": "stdout",
     "output_type": "stream",
     "text": [
      "I don't know.\n"
     ]
    }
   ],
   "source": [
    "from langchain.memory import ConversationBufferMemory\n",
    "from langchain.chains import ConversationalRetrievalChain\n",
    "from langchain.prompts import PromptTemplate\n",
    "\n",
    "retriever = loaded_db.as_retriever()\n",
    "\n",
    "memory = ConversationBufferMemory(memory_key=\"chat_history\",return_messages=True,k=3)\n",
    "prompt_template = '''You are a helpful assistant for answering FAQs.\n",
    "\n",
    "Use ONLY the following context from the FAQ database to answer the question.\n",
    "If the answer is not in the context, reply strictly with: \"I don't know.\"\n",
    "\n",
    "Context:\n",
    "{context}\n",
    "\n",
    "Question:\n",
    "{question}\n",
    "\n",
    "Answer:'''\n",
    "\n",
    "QA_PROMPT = PromptTemplate(\n",
    "    template=prompt_template,\n",
    "    input_variables=[\"context\",\"question\"]\n",
    ")\n",
    "chain = ConversationalRetrievalChain.from_llm(\n",
    "    llm=llm,\n",
    "    retriever=retriever,\n",
    "    memory =memory,\n",
    "    combine_docs_chain_kwargs = {\"prompt\":QA_PROMPT}\n",
    ")\n",
    "\n",
    "result = chain.invoke({\"question\":\"what is samosa\"})\n",
    "print(result[\"answer\"])"
   ]
  },
  {
   "cell_type": "code",
   "execution_count": null,
   "id": "908c9fa6",
   "metadata": {},
   "outputs": [],
   "source": []
  }
 ],
 "metadata": {
  "kernelspec": {
   "display_name": "Python (langchain-gemini)",
   "language": "python",
   "name": "langchain-gemini"
  },
  "language_info": {
   "codemirror_mode": {
    "name": "ipython",
    "version": 3
   },
   "file_extension": ".py",
   "mimetype": "text/x-python",
   "name": "python",
   "nbconvert_exporter": "python",
   "pygments_lexer": "ipython3",
   "version": "3.10.18"
  }
 },
 "nbformat": 4,
 "nbformat_minor": 5
}
